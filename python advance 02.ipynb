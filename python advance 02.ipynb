{
 "cells": [
  {
   "cell_type": "raw",
   "id": "35830a2d",
   "metadata": {},
   "source": [
    "Q1. What is the relationship between classes and modules?"
   ]
  },
  {
   "cell_type": "raw",
   "id": "5333c424",
   "metadata": {},
   "source": [
    "ans: Modules are collections of methods and constants.They cannot generate instance. Classes may genertate instance(objects),and have per-instance state(instance variables)."
   ]
  },
  {
   "cell_type": "code",
   "execution_count": null,
   "id": "81738bcc",
   "metadata": {},
   "outputs": [],
   "source": []
  },
  {
   "cell_type": "code",
   "execution_count": null,
   "id": "0cfe0ff4",
   "metadata": {},
   "outputs": [],
   "source": []
  },
  {
   "cell_type": "raw",
   "id": "0df881be",
   "metadata": {},
   "source": [
    "Q2. How do you make instances and classes?"
   ]
  },
  {
   "cell_type": "raw",
   "id": "957dd7e9",
   "metadata": {},
   "source": [
    "ans:classes can be created with the help of keyword class. to create instance of a class, we can call the class using class name and pass in whatever argument"
   ]
  },
  {
   "cell_type": "code",
   "execution_count": null,
   "id": "58c0cdae",
   "metadata": {},
   "outputs": [],
   "source": []
  },
  {
   "cell_type": "code",
   "execution_count": null,
   "id": "46f5e492",
   "metadata": {},
   "outputs": [],
   "source": []
  },
  {
   "cell_type": "code",
   "execution_count": null,
   "id": "d4ae7d69",
   "metadata": {},
   "outputs": [],
   "source": [
    "Q3. Where and how should be class attributes created"
   ]
  },
  {
   "cell_type": "raw",
   "id": "3fb556dd",
   "metadata": {},
   "source": [
    "ans: any variable that is bound in a class attribute.Any funcgioon defined within a class is a method.Method received an instance of the class, conventionally called self, as the arguments."
   ]
  },
  {
   "cell_type": "code",
   "execution_count": 1,
   "id": "65b543fc",
   "metadata": {},
   "outputs": [],
   "source": [
    "class MyClass:\n",
    "    attr1 = 10\n",
    "    attr2 = \"hello\"\n",
    "    \n",
    "    def method(self):\n",
    "        print(MyClass.attr1)\n",
    "        \n",
    "    def method2(self):\n",
    "        print(MyClass.attr2)\n",
    "        \n",
    "    def method3(self,text):\n",
    "        self.text = text\n",
    "        print(text,self.text)\n",
    "        \n",
    "    method4 = method3"
   ]
  },
  {
   "cell_type": "code",
   "execution_count": null,
   "id": "523eb900",
   "metadata": {},
   "outputs": [],
   "source": []
  },
  {
   "cell_type": "code",
   "execution_count": null,
   "id": "57888046",
   "metadata": {},
   "outputs": [],
   "source": []
  },
  {
   "cell_type": "code",
   "execution_count": null,
   "id": "be8ae4b1",
   "metadata": {},
   "outputs": [],
   "source": [
    "Q4. Where and how are instance attributes created"
   ]
  },
  {
   "cell_type": "raw",
   "id": "e927a708",
   "metadata": {},
   "source": [
    "ans: Instance attributes are attributes or properties attached to an instance of a class.instance attribute are defined in the constuctor."
   ]
  },
  {
   "cell_type": "code",
   "execution_count": null,
   "id": "9e010a54",
   "metadata": {},
   "outputs": [],
   "source": []
  },
  {
   "cell_type": "code",
   "execution_count": null,
   "id": "925370cc",
   "metadata": {},
   "outputs": [],
   "source": []
  },
  {
   "cell_type": "raw",
   "id": "071db09d",
   "metadata": {},
   "source": [
    "Q5. What does the term \"self\" in a Python class mean?"
   ]
  },
  {
   "cell_type": "raw",
   "id": "c1975443",
   "metadata": {},
   "source": [
    "self represents the instance of the class.By using the \"self\" keywords we can access the attrinutes an methods of the clas in python. it binds the attributes with the given arguments."
   ]
  },
  {
   "cell_type": "code",
   "execution_count": null,
   "id": "4f281e80",
   "metadata": {},
   "outputs": [],
   "source": []
  },
  {
   "cell_type": "code",
   "execution_count": null,
   "id": "0a146171",
   "metadata": {},
   "outputs": [],
   "source": []
  },
  {
   "cell_type": "raw",
   "id": "e7edb93d",
   "metadata": {},
   "source": [
    "Q6. How does a Python class handle operator overloading?"
   ]
  },
  {
   "cell_type": "raw",
   "id": "ae67af98",
   "metadata": {},
   "source": [
    "ans:The operator oveerloading in python means provide extended meaning beyond their predefined operational meaning.Such as, we use the \"+\" operator for adding two integers as well as joining two strings or merginng two lists. we can achieve this as the \"+\" opertor is oveloaded by the int \"int\" class and \"str\" class. The user notice that the same inbuilt operator or function is showing differnt behaviour for objects of differnt classes. This process is konw as operator overloading."
   ]
  },
  {
   "cell_type": "code",
   "execution_count": 4,
   "id": "c33ba8e2",
   "metadata": {},
   "outputs": [
    {
     "name": "stdout",
     "output_type": "stream",
     "text": [
      "(44, 34)\n"
     ]
    }
   ],
   "source": [
    "class complex_1:\n",
    "    def __init__(self,x,y):\n",
    "        self.x =x\n",
    "        self.y = y\n",
    "        \n",
    "    def __add__(self,u):\n",
    "        return self.x + u.x,self.y + u.y\n",
    "    \n",
    "    \n",
    "object_1 = complex_1(23,12)\n",
    "object_2 = complex_1(21,22)\n",
    "object_3 = object_1 + object_2\n",
    "print(object_3)"
   ]
  },
  {
   "cell_type": "code",
   "execution_count": null,
   "id": "d1e1d2b0",
   "metadata": {},
   "outputs": [],
   "source": []
  },
  {
   "cell_type": "code",
   "execution_count": null,
   "id": "0614f876",
   "metadata": {},
   "outputs": [],
   "source": []
  },
  {
   "cell_type": "raw",
   "id": "01952c9c",
   "metadata": {},
   "source": [
    "Q7. When do you consider allowing operator overloading of your classes?"
   ]
  },
  {
   "cell_type": "raw",
   "id": "3d221ca9",
   "metadata": {},
   "source": [
    "ans: Supppose that we have two object which  are a physical representation of a class(user-defined data type) and we have to add two object with binery \"+\" operator it throws an error, because complier don't know how to add two object. So we define a method for an operator and that process is called operator overloading."
   ]
  },
  {
   "cell_type": "code",
   "execution_count": null,
   "id": "ac061537",
   "metadata": {},
   "outputs": [],
   "source": []
  },
  {
   "cell_type": "code",
   "execution_count": null,
   "id": "4ff91697",
   "metadata": {},
   "outputs": [],
   "source": []
  },
  {
   "cell_type": "raw",
   "id": "6d038227",
   "metadata": {},
   "source": [
    "Q8. What is the most popular form of operator overloading?"
   ]
  },
  {
   "cell_type": "raw",
   "id": "78551543",
   "metadata": {},
   "source": [
    "ans: A very popular and conveinet example is the addition (+)opertor. the '+' opertor operates on two numbers and the same opertor operates on two strings. it performs \"Addition\" on numbers whereas it performs.\"Concatenation\" on strings."
   ]
  },
  {
   "cell_type": "code",
   "execution_count": null,
   "id": "d6e59792",
   "metadata": {},
   "outputs": [],
   "source": []
  },
  {
   "cell_type": "code",
   "execution_count": null,
   "id": "668c84d9",
   "metadata": {},
   "outputs": [],
   "source": []
  },
  {
   "cell_type": "raw",
   "id": "e23bf4b5",
   "metadata": {},
   "source": [
    "Q9. What are the two most important concepts to grasp in order to comprehend Python OOP code?"
   ]
  },
  {
   "cell_type": "raw",
   "id": "f6acd0c1",
   "metadata": {},
   "source": [
    "ans: The two most important concepts to grasp in order to comprehend python oop code are polymorphism and inheritence."
   ]
  },
  {
   "cell_type": "code",
   "execution_count": 6,
   "id": "f4e58518",
   "metadata": {},
   "outputs": [
    {
     "name": "stdout",
     "output_type": "stream",
     "text": [
      "this is msg to ineuron\n",
      "this is a msg to xyz\n"
     ]
    }
   ],
   "source": [
    "class ineuron:\n",
    "    def msg(self):\n",
    "        print(\"this is msg to ineuron\")\n",
    "        \n",
    "class xyz:\n",
    "    def msg (self):\n",
    "        print(\"this is a msg to xyz\")\n",
    "        \n",
    "def test(notes):\n",
    "    notes.msg()\n",
    "    \n",
    "i = ineuron()\n",
    "x = xyz()\n",
    "\n",
    "test(i)\n",
    "test(x)"
   ]
  },
  {
   "cell_type": "code",
   "execution_count": 16,
   "id": "d782fc35",
   "metadata": {},
   "outputs": [
    {
     "name": "stdout",
     "output_type": "stream",
     "text": [
      "ineuron company was established in 2018\n"
     ]
    }
   ],
   "source": [
    "class ineuron:\n",
    "    company_website = 'https:// ineuron.ai/'\n",
    "    name = 'ineuron'\n",
    "    \n",
    "    def contact_details(self):\n",
    "        print('contact us at', self.company_website)\n",
    "        \n",
    "class datascience (ineuron):\n",
    "    def __init__(self):\n",
    "        self.year_of_establishment = 2018\n",
    "        \n",
    "    def est_details(self):\n",
    "        print('{0} company was established in {1}'\n",
    "              .format (self.name, self.year_of_establishment))\n",
    "ds = datascience()\n",
    "ds.est_details()"
   ]
  },
  {
   "cell_type": "code",
   "execution_count": null,
   "id": "a311a060",
   "metadata": {},
   "outputs": [],
   "source": []
  },
  {
   "cell_type": "code",
   "execution_count": null,
   "id": "9e5e3228",
   "metadata": {},
   "outputs": [],
   "source": []
  }
 ],
 "metadata": {
  "kernelspec": {
   "display_name": "Python 3",
   "language": "python",
   "name": "python3"
  },
  "language_info": {
   "codemirror_mode": {
    "name": "ipython",
    "version": 3
   },
   "file_extension": ".py",
   "mimetype": "text/x-python",
   "name": "python",
   "nbconvert_exporter": "python",
   "pygments_lexer": "ipython3",
   "version": "3.8.8"
  }
 },
 "nbformat": 4,
 "nbformat_minor": 5
}
